{
 "metadata": {
  "name": "plotHRV"
 },
 "nbformat": 3,
 "nbformat_minor": 0,
 "worksheets": [
  {
   "cells": [
    {
     "cell_type": "code",
     "collapsed": false,
     "input": "import serial\n",
     "language": "python",
     "metadata": {
      "slideshow": {
       "slide_type": "subslide"
      }
     },
     "outputs": [],
     "prompt_number": 53
    },
    {
     "cell_type": "code",
     "collapsed": false,
     "input": "ls /dev/tty.*",
     "language": "python",
     "metadata": {
      "slideshow": {
       "slide_type": "subslide"
      }
     },
     "outputs": [
      {
       "output_type": "stream",
       "stream": "stdout",
       "text": "\u001b[34m\u001b[43m/dev/tty.Bluetooth-Incoming-Port\u001b[m\u001b[m  \u001b[34m\u001b[43m/dev/tty.bitalino-DevB\u001b[m\u001b[m\r\n\u001b[34m\u001b[43m/dev/tty.Bluetooth-Modem\u001b[m\u001b[m          \u001b[34m\u001b[43m/dev/tty.espruino1-DevB\u001b[m\u001b[m\r\n\u001b[34m\u001b[43m/dev/tty.Mobile-WirelessiAP\u001b[m\u001b[m       \u001b[34m\u001b[43m/dev/tty.espruino2-DevB\u001b[m\u001b[m\r\n"
      }
     ],
     "prompt_number": 97
    },
    {
     "cell_type": "code",
     "collapsed": false,
     "input": "import os\nimport serial\nfrom serial.tools import list_ports\n\n\ndef serial_ports():\n    \"\"\"\n    Returns a generator for all available serial ports\n    \"\"\"\n    if os.name == 'nt':\n        # windows\n        for i in range(256):\n            try:\n                s = serial.Serial(i)\n                s.close()\n                yield 'COM' + str(i + 1)\n            except serial.SerialException:\n                pass\n    else:\n        # unix\n        for port in list_ports.comports():\n            yield port[0]\n\n\nif __name__ == '__main__':\n    print(list(serial_ports()))",
     "language": "python",
     "metadata": {},
     "outputs": [
      {
       "output_type": "stream",
       "stream": "stdout",
       "text": "['/dev/cu.espruino2-DevB', '/dev/cu.Mobile-WirelessiAP', '/dev/cu.bitalino-DevB', '/dev/cu.Bluetooth-Modem', '/dev/cu.espruino1-DevB', '/dev/cu.Bluetooth-Incoming-Port', '/dev/cu.usbmodem000001']\n"
      }
     ],
     "prompt_number": 55
    },
    {
     "cell_type": "markdown",
     "metadata": {},
     "source": "This works well partly because of the /dev/cu/* use. Better than the tty for some reason"
    },
    {
     "cell_type": "code",
     "collapsed": false,
     "input": "ports = list(serial_ports())\nfor each in ports:\n    print each[8:]",
     "language": "python",
     "metadata": {},
     "outputs": [
      {
       "output_type": "stream",
       "stream": "stdout",
       "text": "espruino2-DevB\nMobile-WirelessiAP\nbitalino-DevB\nBluetooth-Modem\nespruino1-DevB\nBluetooth-Incoming-Port\n"
      }
     ],
     "prompt_number": 95
    },
    {
     "cell_type": "code",
     "collapsed": false,
     "input": "ser = serial.Serial(ports[-1],timeout=1)  #usually the last one is the Arduino",
     "language": "python",
     "metadata": {},
     "outputs": []
    },
    {
     "cell_type": "code",
     "collapsed": false,
     "input": "%pylab inline # to display in ipython notebook",
     "language": "python",
     "metadata": {},
     "outputs": [
      {
       "output_type": "stream",
       "stream": "stdout",
       "text": "Populating the interactive namespace from numpy and matplotlib\n"
      }
     ],
     "prompt_number": 34
    },
    {
     "cell_type": "code",
     "collapsed": false,
     "input": "df = []\nser = serial.Serial(ports[-1],timeout=1)\nwhile True:\n    df.append(ser.readline())\n    if len(df) > 500:\n        ser.close()\n        break\n    #print df[-1]",
     "language": "python",
     "metadata": {},
     "outputs": [],
     "prompt_number": 85
    },
    {
     "cell_type": "code",
     "collapsed": false,
     "input": "raw = []\nfor point in df:\n    raw.append(int(point[1:-2]))\n    #print int(point[1:-2])\nplot(raw)",
     "language": "python",
     "metadata": {},
     "outputs": [
      {
       "metadata": {},
       "output_type": "pyout",
       "prompt_number": 86,
       "text": "[<matplotlib.lines.Line2D at 0x105eb8f50>]"
      },
      {
       "metadata": {},
       "output_type": "display_data",
       "png": "[encoded data removed]",
       "text": "<matplotlib.figure.Figure at 0x10529cf10>"
      }
     ],
     "prompt_number": 86
    },
    {
     "cell_type": "code",
     "collapsed": false,
     "input": "raw",
     "language": "python",
     "metadata": {},
     "outputs": [
      {
       "metadata": {},
       "output_type": "pyout",
       "prompt_number": 87,
       "text": "[10,\n 582,\n 553,\n 530,\n 512,\n 492,\n 470,\n 450,\n 431,\n 413,\n 394,\n 379,\n 363,\n 350,\n 337,\n 327,\n 319,\n 314,\n 309,\n 304,\n 300,\n 296,\n 290,\n 286,\n 282,\n 278,\n 274,\n 270,\n 267,\n 265,\n 267,\n 269,\n 270,\n 269,\n 266,\n 261,\n 256,\n 253,\n 252,\n 256,\n 271,\n 310,\n 363,\n 423,\n 54,\n 1046,\n 482,\n 529,\n 567,\n 600,\n 623,\n 643,\n 658,\n 663,\n 651,\n 623,\n 585,\n 553,\n 524,\n 502,\n 482,\n 464,\n 446,\n 430,\n 411,\n 396,\n 381,\n 369,\n 359,\n 351,\n 345,\n 340,\n 332,\n 326,\n 320,\n 316,\n 314,\n 310,\n 307,\n 303,\n 297,\n 292,\n 288,\n 283,\n 282,\n 282,\n 282,\n 283,\n 283,\n 280,\n 276,\n 272,\n 269,\n 269,\n 272,\n 289,\n 324,\n 379,\n 443,\n 504,\n 54,\n 1080,\n 552,\n 591,\n 617,\n 638,\n 655,\n 662,\n 653,\n 627,\n 591,\n 554,\n 527,\n 507,\n 492,\n 476,\n 461,\n 443,\n 425,\n 406,\n 390,\n 376,\n 365,\n 355,\n 346,\n 338,\n 332,\n 326,\n 321,\n 317,\n 314,\n 310,\n 305,\n 301,\n 295,\n 288,\n 282,\n 278,\n 276,\n 277,\n 279,\n 282,\n 282,\n 280,\n 276,\n 272,\n 268,\n 266,\n 267,\n 279,\n 314,\n 371,\n 444,\n 519,\n 54,\n 1054,\n 583,\n 630,\n 668,\n 695,\n 705,\n 705,\n 705,\n 705,\n 697,\n 650,\n 606,\n 570,\n 542,\n 519,\n 495,\n 473,\n 449,\n 424,\n 403,\n 382,\n 364,\n 351,\n 340,\n 332,\n 323,\n 316,\n 309,\n 305,\n 301,\n 295,\n 289,\n 284,\n 282,\n 278,\n 275,\n 271,\n 267,\n 263,\n 260,\n 259,\n 259,\n 261,\n 261,\n 260,\n 257,\n 254,\n 250,\n 246,\n 246,\n 260,\n 298,\n 362,\n 442,\n 523,\n 55,\n 1100,\n 594,\n 640,\n 672,\n 694,\n 705,\n 705,\n 705,\n 700,\n 658,\n 611,\n 565,\n 527,\n 496,\n 444,\n 419,\n 394,\n 372,\n 354,\n 339,\n 325,\n 312,\n 303,\n 293,\n 285,\n 280,\n 275,\n 272,\n 269,\n 266,\n 266,\n 264,\n 258,\n 251,\n 247,\n 244,\n 242,\n 242,\n 241,\n 243,\n 244,\n 246,\n 246,\n 246,\n 245,\n 242,\n 239,\n 237,\n 240,\n 250,\n 279,\n 334,\n 405,\n 474,\n 55,\n 1104,\n 536,\n 576,\n 602,\n 617,\n 625,\n 627,\n 613,\n 584,\n 546,\n 510,\n 481,\n 458,\n 441,\n 423,\n 401,\n 381,\n 361,\n 344,\n 328,\n 314,\n 305,\n 295,\n 288,\n 283,\n 280,\n 277,\n 276,\n 276,\n 275,\n 273,\n 271,\n 267,\n 263,\n 259,\n 255,\n 250,\n 247,\n 246,\n 247,\n 249,\n 250,\n 248,\n 245,\n 241,\n 237,\n 234,\n 234,\n 242,\n 266,\n 311,\n 375,\n 452,\n 55,\n 1070,\n 511,\n 552,\n 583,\n 605,\n 620,\n 630,\n 629,\n 615,\n 583,\n 543,\n 506,\n 477,\n 452,\n 429,\n 409,\n 391,\n 375,\n 361,\n 349,\n 337,\n 325,\n 315,\n 309,\n 304,\n 299,\n 296,\n 294,\n 292,\n 289,\n 285,\n 279,\n 273,\n 269,\n 266,\n 264,\n 260,\n 258,\n 256,\n 253,\n 252,\n 252,\n 254,\n 256,\n 257,\n 257,\n 253,\n 247,\n 244,\n 243,\n 247,\n 257,\n 280,\n 327,\n 383,\n 443,\n 55,\n 1116,\n 499,\n 544,\n 579,\n 610,\n 633,\n 650,\n 659,\n 655,\n 636,\n 604,\n 567,\n 530,\n 502,\n 478,\n 453,\n 430,\n 409,\n 391,\n 374,\n 361,\n 349,\n 341,\n 335,\n 330,\n 326,\n 323,\n 320,\n 316,\n 313,\n 309,\n 305,\n 300,\n 295,\n 291,\n 287,\n 284,\n 279,\n 276,\n 273,\n 271,\n 273,\n 277,\n 281,\n 283,\n 283,\n 281,\n 275,\n 270,\n 266,\n 263,\n 265,\n 274,\n 294,\n 332,\n 384,\n 437,\n 487,\n 55,\n 1142,\n 531,\n 561,\n 587,\n 609,\n 626,\n 637,\n 634,\n 614,\n 583,\n 552,\n 524,\n 502,\n 484,\n 465,\n 444,\n 427,\n 412,\n 396,\n 382,\n 371,\n 360,\n 350,\n 341,\n 336,\n 332,\n 330,\n 327,\n 324,\n 320,\n 317,\n 313,\n 310,\n 305,\n 302,\n 299,\n 296,\n 292,\n 289,\n 287,\n 287,\n 289,\n 292,\n 295,\n 296,\n 295,\n 291,\n 286,\n 281,\n 278,\n 278,\n 283,\n 301,\n 341,\n 392,\n 447,\n 497,\n 54,\n 1132,\n 536,\n 566,\n 590,\n 608,\n 621,\n 624]"
      }
     ],
     "prompt_number": 87
    },
    {
     "cell_type": "code",
     "collapsed": false,
     "input": "df",
     "language": "python",
     "metadata": {},
     "outputs": [
      {
       "metadata": {},
       "output_type": "pyout",
       "prompt_number": 96,
       "text": "['610\\r\\n',\n 'S582\\r\\n',\n 'S553\\r\\n',\n 'S530\\r\\n',\n 'S512\\r\\n',\n 'S492\\r\\n',\n 'S470\\r\\n',\n 'S450\\r\\n',\n 'S431\\r\\n',\n 'S413\\r\\n',\n 'S394\\r\\n',\n 'S379\\r\\n',\n 'S363\\r\\n',\n 'S350\\r\\n',\n 'S337\\r\\n',\n 'S327\\r\\n',\n 'S319\\r\\n',\n 'S314\\r\\n',\n 'S309\\r\\n',\n 'S304\\r\\n',\n 'S300\\r\\n',\n 'S296\\r\\n',\n 'S290\\r\\n',\n 'S286\\r\\n',\n 'S282\\r\\n',\n 'S278\\r\\n',\n 'S274\\r\\n',\n 'S270\\r\\n',\n 'S267\\r\\n',\n 'S265\\r\\n',\n 'S267\\r\\n',\n 'S269\\r\\n',\n 'S270\\r\\n',\n 'S269\\r\\n',\n 'S266\\r\\n',\n 'S261\\r\\n',\n 'S256\\r\\n',\n 'S253\\r\\n',\n 'S252\\r\\n',\n 'S256\\r\\n',\n 'S271\\r\\n',\n 'S310\\r\\n',\n 'S363\\r\\n',\n 'S423\\r\\n',\n 'B54\\r\\n',\n 'Q1046\\r\\n',\n 'S482\\r\\n',\n 'S529\\r\\n',\n 'S567\\r\\n',\n 'S600\\r\\n',\n 'S623\\r\\n',\n 'S643\\r\\n',\n 'S658\\r\\n',\n 'S663\\r\\n',\n 'S651\\r\\n',\n 'S623\\r\\n',\n 'S585\\r\\n',\n 'S553\\r\\n',\n 'S524\\r\\n',\n 'S502\\r\\n',\n 'S482\\r\\n',\n 'S464\\r\\n',\n 'S446\\r\\n',\n 'S430\\r\\n',\n 'S411\\r\\n',\n 'S396\\r\\n',\n 'S381\\r\\n',\n 'S369\\r\\n',\n 'S359\\r\\n',\n 'S351\\r\\n',\n 'S345\\r\\n',\n 'S340\\r\\n',\n 'S332\\r\\n',\n 'S326\\r\\n',\n 'S320\\r\\n',\n 'S316\\r\\n',\n 'S314\\r\\n',\n 'S310\\r\\n',\n 'S307\\r\\n',\n 'S303\\r\\n',\n 'S297\\r\\n',\n 'S292\\r\\n',\n 'S288\\r\\n',\n 'S283\\r\\n',\n 'S282\\r\\n',\n 'S282\\r\\n',\n 'S282\\r\\n',\n 'S283\\r\\n',\n 'S283\\r\\n',\n 'S280\\r\\n',\n 'S276\\r\\n',\n 'S272\\r\\n',\n 'S269\\r\\n',\n 'S269\\r\\n',\n 'S272\\r\\n',\n 'S289\\r\\n',\n 'S324\\r\\n',\n 'S379\\r\\n',\n 'S443\\r\\n',\n 'S504\\r\\n',\n 'B54\\r\\n',\n 'Q1080\\r\\n',\n 'S552\\r\\n',\n 'S591\\r\\n',\n 'S617\\r\\n',\n 'S638\\r\\n',\n 'S655\\r\\n',\n 'S662\\r\\n',\n 'S653\\r\\n',\n 'S627\\r\\n',\n 'S591\\r\\n',\n 'S554\\r\\n',\n 'S527\\r\\n',\n 'S507\\r\\n',\n 'S492\\r\\n',\n 'S476\\r\\n',\n 'S461\\r\\n',\n 'S443\\r\\n',\n 'S425\\r\\n',\n 'S406\\r\\n',\n 'S390\\r\\n',\n 'S376\\r\\n',\n 'S365\\r\\n',\n 'S355\\r\\n',\n 'S346\\r\\n',\n 'S338\\r\\n',\n 'S332\\r\\n',\n 'S326\\r\\n',\n 'S321\\r\\n',\n 'S317\\r\\n',\n 'S314\\r\\n',\n 'S310\\r\\n',\n 'S305\\r\\n',\n 'S301\\r\\n',\n 'S295\\r\\n',\n 'S288\\r\\n',\n 'S282\\r\\n',\n 'S278\\r\\n',\n 'S276\\r\\n',\n 'S277\\r\\n',\n 'S279\\r\\n',\n 'S282\\r\\n',\n 'S282\\r\\n',\n 'S280\\r\\n',\n 'S276\\r\\n',\n 'S272\\r\\n',\n 'S268\\r\\n',\n 'S266\\r\\n',\n 'S267\\r\\n',\n 'S279\\r\\n',\n 'S314\\r\\n',\n 'S371\\r\\n',\n 'S444\\r\\n',\n 'S519\\r\\n',\n 'B54\\r\\n',\n 'Q1054\\r\\n',\n 'S583\\r\\n',\n 'S630\\r\\n',\n 'S668\\r\\n',\n 'S695\\r\\n',\n 'S705\\r\\n',\n 'S705\\r\\n',\n 'S705\\r\\n',\n 'S705\\r\\n',\n 'S697\\r\\n',\n 'S650\\r\\n',\n 'S606\\r\\n',\n 'S570\\r\\n',\n 'S542\\r\\n',\n 'S519\\r\\n',\n 'S495\\r\\n',\n 'S473\\r\\n',\n 'S449\\r\\n',\n 'S424\\r\\n',\n 'S403\\r\\n',\n 'S382\\r\\n',\n 'S364\\r\\n',\n 'S351\\r\\n',\n 'S340\\r\\n',\n 'S332\\r\\n',\n 'S323\\r\\n',\n 'S316\\r\\n',\n 'S309\\r\\n',\n 'S305\\r\\n',\n 'S301\\r\\n',\n 'S295\\r\\n',\n 'S289\\r\\n',\n 'S284\\r\\n',\n 'S282\\r\\n',\n 'S278\\r\\n',\n 'S275\\r\\n',\n 'S271\\r\\n',\n 'S267\\r\\n',\n 'S263\\r\\n',\n 'S260\\r\\n',\n 'S259\\r\\n',\n 'S259\\r\\n',\n 'S261\\r\\n',\n 'S261\\r\\n',\n 'S260\\r\\n',\n 'S257\\r\\n',\n 'S254\\r\\n',\n 'S250\\r\\n',\n 'S246\\r\\n',\n 'S246\\r\\n',\n 'S260\\r\\n',\n 'S298\\r\\n',\n 'S362\\r\\n',\n 'S442\\r\\n',\n 'S523\\r\\n',\n 'B55\\r\\n',\n 'Q1100\\r\\n',\n 'S594\\r\\n',\n 'S640\\r\\n',\n 'S672\\r\\n',\n 'S694\\r\\n',\n 'S705\\r\\n',\n 'S705\\r\\n',\n 'S705\\r\\n',\n 'S700\\r\\n',\n 'S658\\r\\n',\n 'S611\\r\\n',\n 'S565\\r\\n',\n 'S527\\r\\n',\n 'S496\\r\\n',\n 'S444\\r\\n',\n 'S419\\r\\n',\n 'S394\\r\\n',\n 'S372\\r\\n',\n 'S354\\r\\n',\n 'S339\\r\\n',\n 'S325\\r\\n',\n 'S312\\r\\n',\n 'S303\\r\\n',\n 'S293\\r\\n',\n 'S285\\r\\n',\n 'S280\\r\\n',\n 'S275\\r\\n',\n 'S272\\r\\n',\n 'S269\\r\\n',\n 'S266\\r\\n',\n 'S266\\r\\n',\n 'S264\\r\\n',\n 'S258\\r\\n',\n 'S251\\r\\n',\n 'S247\\r\\n',\n 'S244\\r\\n',\n 'S242\\r\\n',\n 'S242\\r\\n',\n 'S241\\r\\n',\n 'S243\\r\\n',\n 'S244\\r\\n',\n 'S246\\r\\n',\n 'S246\\r\\n',\n 'S246\\r\\n',\n 'S245\\r\\n',\n 'S242\\r\\n',\n 'S239\\r\\n',\n 'S237\\r\\n',\n 'S240\\r\\n',\n 'S250\\r\\n',\n 'S279\\r\\n',\n 'S334\\r\\n',\n 'S405\\r\\n',\n 'S474\\r\\n',\n 'B55\\r\\n',\n 'Q1104\\r\\n',\n 'S536\\r\\n',\n 'S576\\r\\n',\n 'S602\\r\\n',\n 'S617\\r\\n',\n 'S625\\r\\n',\n 'S627\\r\\n',\n 'S613\\r\\n',\n 'S584\\r\\n',\n 'S546\\r\\n',\n 'S510\\r\\n',\n 'S481\\r\\n',\n 'S458\\r\\n',\n 'S441\\r\\n',\n 'S423\\r\\n',\n 'S401\\r\\n',\n 'S381\\r\\n',\n 'S361\\r\\n',\n 'S344\\r\\n',\n 'S328\\r\\n',\n 'S314\\r\\n',\n 'S305\\r\\n',\n 'S295\\r\\n',\n 'S288\\r\\n',\n 'S283\\r\\n',\n 'S280\\r\\n',\n 'S277\\r\\n',\n 'S276\\r\\n',\n 'S276\\r\\n',\n 'S275\\r\\n',\n 'S273\\r\\n',\n 'S271\\r\\n',\n 'S267\\r\\n',\n 'S263\\r\\n',\n 'S259\\r\\n',\n 'S255\\r\\n',\n 'S250\\r\\n',\n 'S247\\r\\n',\n 'S246\\r\\n',\n 'S247\\r\\n',\n 'S249\\r\\n',\n 'S250\\r\\n',\n 'S248\\r\\n',\n 'S245\\r\\n',\n 'S241\\r\\n',\n 'S237\\r\\n',\n 'S234\\r\\n',\n 'S234\\r\\n',\n 'S242\\r\\n',\n 'S266\\r\\n',\n 'S311\\r\\n',\n 'S375\\r\\n',\n 'S452\\r\\n',\n 'B55\\r\\n',\n 'Q1070\\r\\n',\n 'S511\\r\\n',\n 'S552\\r\\n',\n 'S583\\r\\n',\n 'S605\\r\\n',\n 'S620\\r\\n',\n 'S630\\r\\n',\n 'S629\\r\\n',\n 'S615\\r\\n',\n 'S583\\r\\n',\n 'S543\\r\\n',\n 'S506\\r\\n',\n 'S477\\r\\n',\n 'S452\\r\\n',\n 'S429\\r\\n',\n 'S409\\r\\n',\n 'S391\\r\\n',\n 'S375\\r\\n',\n 'S361\\r\\n',\n 'S349\\r\\n',\n 'S337\\r\\n',\n 'S325\\r\\n',\n 'S315\\r\\n',\n 'S309\\r\\n',\n 'S304\\r\\n',\n 'S299\\r\\n',\n 'S296\\r\\n',\n 'S294\\r\\n',\n 'S292\\r\\n',\n 'S289\\r\\n',\n 'S285\\r\\n',\n 'S279\\r\\n',\n 'S273\\r\\n',\n 'S269\\r\\n',\n 'S266\\r\\n',\n 'S264\\r\\n',\n 'S260\\r\\n',\n 'S258\\r\\n',\n 'S256\\r\\n',\n 'S253\\r\\n',\n 'S252\\r\\n',\n 'S252\\r\\n',\n 'S254\\r\\n',\n 'S256\\r\\n',\n 'S257\\r\\n',\n 'S257\\r\\n',\n 'S253\\r\\n',\n 'S247\\r\\n',\n 'S244\\r\\n',\n 'S243\\r\\n',\n 'S247\\r\\n',\n 'S257\\r\\n',\n 'S280\\r\\n',\n 'S327\\r\\n',\n 'S383\\r\\n',\n 'S443\\r\\n',\n 'B55\\r\\n',\n 'Q1116\\r\\n',\n 'S499\\r\\n',\n 'S544\\r\\n',\n 'S579\\r\\n',\n 'S610\\r\\n',\n 'S633\\r\\n',\n 'S650\\r\\n',\n 'S659\\r\\n',\n 'S655\\r\\n',\n 'S636\\r\\n',\n 'S604\\r\\n',\n 'S567\\r\\n',\n 'S530\\r\\n',\n 'S502\\r\\n',\n 'S478\\r\\n',\n 'S453\\r\\n',\n 'S430\\r\\n',\n 'S409\\r\\n',\n 'S391\\r\\n',\n 'S374\\r\\n',\n 'S361\\r\\n',\n 'S349\\r\\n',\n 'S341\\r\\n',\n 'S335\\r\\n',\n 'S330\\r\\n',\n 'S326\\r\\n',\n 'S323\\r\\n',\n 'S320\\r\\n',\n 'S316\\r\\n',\n 'S313\\r\\n',\n 'S309\\r\\n',\n 'S305\\r\\n',\n 'S300\\r\\n',\n 'S295\\r\\n',\n 'S291\\r\\n',\n 'S287\\r\\n',\n 'S284\\r\\n',\n 'S279\\r\\n',\n 'S276\\r\\n',\n 'S273\\r\\n',\n 'S271\\r\\n',\n 'S273\\r\\n',\n 'S277\\r\\n',\n 'S281\\r\\n',\n 'S283\\r\\n',\n 'S283\\r\\n',\n 'S281\\r\\n',\n 'S275\\r\\n',\n 'S270\\r\\n',\n 'S266\\r\\n',\n 'S263\\r\\n',\n 'S265\\r\\n',\n 'S274\\r\\n',\n 'S294\\r\\n',\n 'S332\\r\\n',\n 'S384\\r\\n',\n 'S437\\r\\n',\n 'S487\\r\\n',\n 'B55\\r\\n',\n 'Q1142\\r\\n',\n 'S531\\r\\n',\n 'S561\\r\\n',\n 'S587\\r\\n',\n 'S609\\r\\n',\n 'S626\\r\\n',\n 'S637\\r\\n',\n 'S634\\r\\n',\n 'S614\\r\\n',\n 'S583\\r\\n',\n 'S552\\r\\n',\n 'S524\\r\\n',\n 'S502\\r\\n',\n 'S484\\r\\n',\n 'S465\\r\\n',\n 'S444\\r\\n',\n 'S427\\r\\n',\n 'S412\\r\\n',\n 'S396\\r\\n',\n 'S382\\r\\n',\n 'S371\\r\\n',\n 'S360\\r\\n',\n 'S350\\r\\n',\n 'S341\\r\\n',\n 'S336\\r\\n',\n 'S332\\r\\n',\n 'S330\\r\\n',\n 'S327\\r\\n',\n 'S324\\r\\n',\n 'S320\\r\\n',\n 'S317\\r\\n',\n 'S313\\r\\n',\n 'S310\\r\\n',\n 'S305\\r\\n',\n 'S302\\r\\n',\n 'S299\\r\\n',\n 'S296\\r\\n',\n 'S292\\r\\n',\n 'S289\\r\\n',\n 'S287\\r\\n',\n 'S287\\r\\n',\n 'S289\\r\\n',\n 'S292\\r\\n',\n 'S295\\r\\n',\n 'S296\\r\\n',\n 'S295\\r\\n',\n 'S291\\r\\n',\n 'S286\\r\\n',\n 'S281\\r\\n',\n 'S278\\r\\n',\n 'S278\\r\\n',\n 'S283\\r\\n',\n 'S301\\r\\n',\n 'S341\\r\\n',\n 'S392\\r\\n',\n 'S447\\r\\n',\n 'S497\\r\\n',\n 'B54\\r\\n',\n 'Q1132\\r\\n',\n 'S536\\r\\n',\n 'S566\\r\\n',\n 'S590\\r\\n',\n 'S608\\r\\n',\n 'S621\\r\\n',\n 'S624\\r\\n']"
      }
     ],
     "prompt_number": 96
    },
    {
     "cell_type": "code",
     "collapsed": false,
     "input": "ser.inWaiting()",
     "language": "python",
     "metadata": {},
     "outputs": [
      {
       "ename": "TypeError",
       "evalue": "argument must be an int, or have a fileno() method.",
       "output_type": "pyerr",
       "traceback": [
        "\u001b[0;31m---------------------------------------------------------------------------\u001b[0m\n\u001b[0;31mTypeError\u001b[0m                                 Traceback (most recent call last)",
        "\u001b[0;32m<ipython-input-82-76f50bf086f5>\u001b[0m in \u001b[0;36m<module>\u001b[0;34m()\u001b[0m\n\u001b[0;32m----> 1\u001b[0;31m \u001b[0mser\u001b[0m\u001b[0;34m.\u001b[0m\u001b[0minWaiting\u001b[0m\u001b[0;34m(\u001b[0m\u001b[0;34m)\u001b[0m\u001b[0;34m\u001b[0m\u001b[0m\n\u001b[0m",
        "\u001b[0;32m/Users/Wintermute/anaconda/envs/myenv/lib/python2.7/site-packages/serial/serialposix.pyc\u001b[0m in \u001b[0;36minWaiting\u001b[0;34m(self)\u001b[0m\n\u001b[1;32m    447\u001b[0m         \u001b[0;34m\"\"\"Return the number of characters currently in the input buffer.\"\"\"\u001b[0m\u001b[0;34m\u001b[0m\u001b[0m\n\u001b[1;32m    448\u001b[0m         \u001b[0;31m#~ s = fcntl.ioctl(self.fd, TERMIOS.FIONREAD, TIOCM_zero_str)\u001b[0m\u001b[0;34m\u001b[0m\u001b[0;34m\u001b[0m\u001b[0m\n\u001b[0;32m--> 449\u001b[0;31m         \u001b[0ms\u001b[0m \u001b[0;34m=\u001b[0m \u001b[0mfcntl\u001b[0m\u001b[0;34m.\u001b[0m\u001b[0mioctl\u001b[0m\u001b[0;34m(\u001b[0m\u001b[0mself\u001b[0m\u001b[0;34m.\u001b[0m\u001b[0mfd\u001b[0m\u001b[0;34m,\u001b[0m \u001b[0mTIOCINQ\u001b[0m\u001b[0;34m,\u001b[0m \u001b[0mTIOCM_zero_str\u001b[0m\u001b[0;34m)\u001b[0m\u001b[0;34m\u001b[0m\u001b[0m\n\u001b[0m\u001b[1;32m    450\u001b[0m         \u001b[0;32mreturn\u001b[0m \u001b[0mstruct\u001b[0m\u001b[0;34m.\u001b[0m\u001b[0munpack\u001b[0m\u001b[0;34m(\u001b[0m\u001b[0;34m'I'\u001b[0m\u001b[0;34m,\u001b[0m\u001b[0ms\u001b[0m\u001b[0;34m)\u001b[0m\u001b[0;34m[\u001b[0m\u001b[0;36m0\u001b[0m\u001b[0;34m]\u001b[0m\u001b[0;34m\u001b[0m\u001b[0m\n\u001b[1;32m    451\u001b[0m \u001b[0;34m\u001b[0m\u001b[0m\n",
        "\u001b[0;31mTypeError\u001b[0m: argument must be an int, or have a fileno() method."
       ]
      }
     ],
     "prompt_number": 82
    },
    {
     "cell_type": "code",
     "collapsed": false,
     "input": "ser.name",
     "language": "python",
     "metadata": {},
     "outputs": [
      {
       "metadata": {},
       "output_type": "pyout",
       "prompt_number": 69,
       "text": "'/dev/cu.usbmodem000001'"
      }
     ],
     "prompt_number": 69
    },
    {
     "cell_type": "code",
     "collapsed": false,
     "input": "df",
     "language": "python",
     "metadata": {},
     "outputs": [
      {
       "metadata": {},
       "output_type": "pyout",
       "prompt_number": 74,
       "text": "['', '', '', '', '', '', '', '', '', '', '']"
      }
     ],
     "prompt_number": 74
    },
    {
     "cell_type": "code",
     "collapsed": false,
     "input": "list_ports.comports()",
     "language": "python",
     "metadata": {},
     "outputs": [
      {
       "metadata": {},
       "output_type": "pyout",
       "prompt_number": 88,
       "text": "[['/dev/cu.espruino2-DevB', 'n/a', 'n/a'],\n ['/dev/cu.Mobile-WirelessiAP', 'n/a', 'n/a'],\n ['/dev/cu.bitalino-DevB', 'n/a', 'n/a'],\n ['/dev/cu.Bluetooth-Modem', 'n/a', 'n/a'],\n ['/dev/cu.espruino1-DevB', 'n/a', 'n/a'],\n ['/dev/cu.Bluetooth-Incoming-Port', 'n/a', 'n/a']]"
      }
     ],
     "prompt_number": 88
    },
    {
     "cell_type": "code",
     "collapsed": false,
     "input": "print serial_ports",
     "language": "python",
     "metadata": {},
     "outputs": [
      {
       "output_type": "stream",
       "stream": "stdout",
       "text": "<function serial_ports at 0x1051b17d0>\n"
      }
     ],
     "prompt_number": 91
    },
    {
     "cell_type": "code",
     "collapsed": false,
     "input": "",
     "language": "python",
     "metadata": {},
     "outputs": []
    }
   ],
   "metadata": {}
  }
 ]
}