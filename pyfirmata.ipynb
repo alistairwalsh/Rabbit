{
 "metadata": {
  "name": ""
 },
 "nbformat": 3,
 "nbformat_minor": 0,
 "worksheets": [
  {
   "cells": [
    {
     "cell_type": "code",
     "collapsed": false,
     "input": [
      "!conda install pyserial"
     ],
     "language": "python",
     "metadata": {},
     "outputs": [
      {
       "output_type": "stream",
       "stream": "stdout",
       "text": [
        "Conda package not available for pyserial, attempting to install via pip\r\n"
       ]
      },
      {
       "output_type": "stream",
       "stream": "stdout",
       "text": [
        "Downloading/unpacking pyserial\r\n",
        "  Downloading pyserial-2.7.tar.gz (122kB): \r",
        "  Downloading pyserial-2.7.tar.gz (122kB):   3%  4.1kB\r",
        "  Downloading pyserial-2.7.tar.gz (122kB):   6%  8.2kB\r",
        "  Downloading pyserial-2.7.tar.gz (122kB):  10%  12kB \r",
        "  Downloading pyserial-2.7.tar.gz (122kB):  13%  16kB\r",
        "  Downloading pyserial-2.7.tar.gz (122kB):  16%  20kB\r",
        "  Downloading pyserial-2.7.tar.gz (122kB):  20%  24kB\r",
        "  Downloading pyserial-2.7.tar.gz (122kB):  23%  28kB\r",
        "  Downloading pyserial-2.7.tar.gz (122kB):  26%  32kB\r",
        "  Downloading pyserial-2.7.tar.gz (122kB):  30%  36kB\r",
        "  Downloading pyserial-2.7.tar.gz (122kB):  33%  40kB\r",
        "  Downloading pyserial-2.7.tar.gz (122kB):  36%  45kB\r",
        "  Downloading pyserial-2.7.tar.gz (122kB):  40%  49kB\r",
        "  Downloading pyserial-2.7.tar.gz (122kB):  43%  53kB\r",
        "  Downloading pyserial-2.7.tar.gz (122kB):  46%  57kB"
       ]
      },
      {
       "output_type": "stream",
       "stream": "stdout",
       "text": [
        "\r",
        "  Downloading pyserial-2.7.tar.gz (122kB):  50%  61kB\r",
        "  Downloading pyserial-2.7.tar.gz (122kB):  53%  65kB\r",
        "  Downloading pyserial-2.7.tar.gz (122kB):  57%  69kB\r",
        "  Downloading pyserial-2.7.tar.gz (122kB):  60%  73kB\r",
        "  Downloading pyserial-2.7.tar.gz (122kB):  63%  77kB\r",
        "  Downloading pyserial-2.7.tar.gz (122kB):  67%  81kB\r",
        "  Downloading pyserial-2.7.tar.gz (122kB):  70%  86kB\r",
        "  Downloading pyserial-2.7.tar.gz (122kB):  73%  90kB\r",
        "  Downloading pyserial-2.7.tar.gz (122kB):  77%  94kB\r",
        "  Downloading pyserial-2.7.tar.gz (122kB):  80%  98kB\r",
        "  Downloading pyserial-2.7.tar.gz (122kB):  83%  102kB\r",
        "  Downloading pyserial-2.7.tar.gz (122kB):  87%  106kB\r",
        "  Downloading pyserial-2.7.tar.gz (122kB):  90%  110kB\r",
        "  Downloading pyserial-2.7.tar.gz (122kB):  93%  114kB\r",
        "  Downloading pyserial-2.7.tar.gz (122kB):  97%  118kB\r",
        "  Downloading pyserial-2.7.tar.gz (122kB): 100%  122kB\r",
        "  Downloading pyserial-2.7.tar.gz (122kB):            \r",
        "  Downloading pyserial-2.7.tar.gz (122kB): 122kB downloaded\r\n"
       ]
      },
      {
       "output_type": "stream",
       "stream": "stdout",
       "text": [
        "  Running setup.py egg_info for package pyserial\r\n",
        "    Detected Python 3, using 2to3\r\n",
        "    \r\n",
        "Installing collected packages: pyserial\r\n",
        "  Running setup.py install for pyserial\r\n",
        "    Skipping implicit fixer: buffer\r\n",
        "    Skipping implicit fixer: idioms\r\n",
        "    Skipping implicit fixer: set_literal\r\n",
        "    Skipping implicit fixer: ws_comma\r\n",
        "    changing mode of build/scripts-3.3/miniterm.py from 644 to 755\r\n",
        "    Skipping implicit fixer: buffer\r\n",
        "    Skipping implicit fixer: idioms\r\n",
        "    Skipping implicit fixer: set_literal\r\n",
        "    Skipping implicit fixer: ws_comma\r\n",
        "    Detected Python 3, using 2to3\r\n",
        "    \r\n",
        "    changing mode of /Users/Wintermute/anaconda/envs/py3k/bin/miniterm.py to 755\r\n",
        "Successfully installed pyserial\r\n",
        "Cleaning up...\r\n"
       ]
      }
     ],
     "prompt_number": 2
    },
    {
     "cell_type": "code",
     "collapsed": false,
     "input": [
      "!conda install pyfirmata\n"
     ],
     "language": "python",
     "metadata": {},
     "outputs": [
      {
       "output_type": "stream",
       "stream": "stdout",
       "text": [
        "Conda package not available for pyfirmata, attempting to install via pip\r\n"
       ]
      },
      {
       "output_type": "stream",
       "stream": "stdout",
       "text": [
        "Downloading/unpacking pyfirmata\r\n",
        "  Downloading pyFirmata-0.9.5.tar.gz\r\n",
        "  Running setup.py egg_info for package pyfirmata\r\n",
        "    \r\n",
        "Requirement already satisfied (use --upgrade to upgrade): pyserial in ./py3k/lib/python3.3/site-packages (from pyfirmata)\r\n",
        "Installing collected packages: pyfirmata\r\n",
        "  Running setup.py install for pyfirmata\r\n",
        "    \r\n",
        "      File \"/Users/Wintermute/anaconda/envs/py3k/lib/python3.3/site-packages/pyfirmata/mockup.py\", line 127\r\n",
        "        raise IOError, \"Cannot read from pin %d\" \\\r\n",
        "                     ^\r\n",
        "    SyntaxError: invalid syntax\r\n",
        "    \r\n",
        "      File \"/Users/Wintermute/anaconda/envs/py3k/lib/python3.3/site-packages/pyfirmata/pyfirmata.py\", line 441\r\n",
        "        raise IOError, \"%s is not an input and can therefore not report\" % self\r\n",
        "                     ^\r\n",
        "    SyntaxError: invalid syntax\r\n",
        "    \r\n",
        "      File \"/Users/Wintermute/anaconda/envs/py3k/lib/python3.3/site-packages/pyfirmata/util.py\", line 27\r\n",
        "        raise IOError, \"No boards found in %s with identifier %s\" % (base_dir, identifier)\r\n",
        "                     ^\r\n",
        "    SyntaxError: invalid syntax\r\n",
        "    \r\n",
        "Successfully installed pyfirmata\r\n",
        "Cleaning up...\r\n"
       ]
      }
     ],
     "prompt_number": 4
    },
    {
     "cell_type": "code",
     "collapsed": false,
     "input": [
      "import serial\n",
      "from pyfirmata import Arduino, util\n",
      "board = Arduino('/dev/tty.bitalino-DevB')\n",
      "\n",
      "    "
     ],
     "language": "python",
     "metadata": {},
     "outputs": [
      {
       "ename": "ImportError",
       "evalue": "No module named 'boards'",
       "output_type": "pyerr",
       "traceback": [
        "\u001b[0;31m---------------------------------------------------------------------------\u001b[0m\n\u001b[0;31mImportError\u001b[0m                               Traceback (most recent call last)",
        "\u001b[0;32m<ipython-input-1-f46f3c0b4704>\u001b[0m in \u001b[0;36m<module>\u001b[0;34m()\u001b[0m\n\u001b[1;32m      1\u001b[0m \u001b[0;32mimport\u001b[0m \u001b[0mserial\u001b[0m\u001b[0;34m\u001b[0m\u001b[0m\n\u001b[0;32m----> 2\u001b[0;31m \u001b[0;32mfrom\u001b[0m \u001b[0mpyfirmata\u001b[0m \u001b[0;32mimport\u001b[0m \u001b[0mArduino\u001b[0m\u001b[0;34m,\u001b[0m \u001b[0mutil\u001b[0m\u001b[0;34m\u001b[0m\u001b[0m\n\u001b[0m\u001b[1;32m      3\u001b[0m \u001b[0mboard\u001b[0m \u001b[0;34m=\u001b[0m \u001b[0mArduino\u001b[0m\u001b[0;34m(\u001b[0m\u001b[0;34m'/dev/tty.bitalino-DevB'\u001b[0m\u001b[0;34m)\u001b[0m\u001b[0;34m\u001b[0m\u001b[0m\n\u001b[1;32m      4\u001b[0m \u001b[0;34m\u001b[0m\u001b[0m\n\u001b[1;32m      5\u001b[0m \u001b[0;34m\u001b[0m\u001b[0m\n",
        "\u001b[0;32m/Users/Wintermute/anaconda/envs/py3k/lib/python3.3/site-packages/pyfirmata/__init__.py\u001b[0m in \u001b[0;36m<module>\u001b[0;34m()\u001b[0m\n\u001b[1;32m      1\u001b[0m \u001b[0;32mfrom\u001b[0m \u001b[0mpyfirmata\u001b[0m \u001b[0;32mimport\u001b[0m \u001b[0;34m*\u001b[0m\u001b[0;34m\u001b[0m\u001b[0m\n\u001b[0;32m----> 2\u001b[0;31m \u001b[0;32mfrom\u001b[0m \u001b[0mboards\u001b[0m \u001b[0;32mimport\u001b[0m \u001b[0mBOARDS\u001b[0m\u001b[0;34m\u001b[0m\u001b[0m\n\u001b[0m\u001b[1;32m      3\u001b[0m \u001b[0;34m\u001b[0m\u001b[0m\n\u001b[1;32m      4\u001b[0m \u001b[0m__version__\u001b[0m \u001b[0;34m=\u001b[0m \u001b[0;34m'0.9.5'\u001b[0m  \u001b[0;31m# Don't forget to change in setup.py!\u001b[0m\u001b[0;34m\u001b[0m\u001b[0m\n\u001b[1;32m      5\u001b[0m \u001b[0;34m\u001b[0m\u001b[0m\n",
        "\u001b[0;31mImportError\u001b[0m: No module named 'boards'"
       ]
      }
     ],
     "prompt_number": 1
    },
    {
     "cell_type": "code",
     "collapsed": false,
     "input": [
      "board.digital[12].write(1)"
     ],
     "language": "python",
     "metadata": {},
     "outputs": [],
     "prompt_number": 4
    },
    {
     "cell_type": "code",
     "collapsed": false,
     "input": [
      "board.digital[12].write(0)"
     ],
     "language": "python",
     "metadata": {},
     "outputs": [],
     "prompt_number": 3
    },
    {
     "cell_type": "code",
     "collapsed": false,
     "input": [
      "it = util.Iterator(board)\n",
      "it.start()\n",
      "\n",
      "\n"
     ],
     "language": "python",
     "metadata": {},
     "outputs": [],
     "prompt_number": 6
    },
    {
     "cell_type": "code",
     "collapsed": false,
     "input": [
      "board.analog[0].enable_reporting()"
     ],
     "language": "python",
     "metadata": {},
     "outputs": [],
     "prompt_number": 7
    },
    {
     "cell_type": "code",
     "collapsed": false,
     "input": [
      "board.analog[0].read()"
     ],
     "language": "python",
     "metadata": {},
     "outputs": [],
     "prompt_number": 8
    },
    {
     "cell_type": "code",
     "collapsed": false,
     "input": [
      "analog_0 = board.get_pin('a:0:i')"
     ],
     "language": "python",
     "metadata": {},
     "outputs": [],
     "prompt_number": 9
    },
    {
     "cell_type": "code",
     "collapsed": false,
     "input": [
      "analog_0.read()"
     ],
     "language": "python",
     "metadata": {},
     "outputs": [],
     "prompt_number": 10
    },
    {
     "cell_type": "code",
     "collapsed": false,
     "input": [
      "\n",
      "pin3 = board.get_pin('d:3:p')\n",
      "pin3.write(0.6)\n"
     ],
     "language": "python",
     "metadata": {},
     "outputs": []
    },
    {
     "cell_type": "code",
     "collapsed": false,
     "input": [
      "#Copyright (c) 2012, Fabian Affolter <fabian@affolter-engineering.ch>\n",
      "#\n",
      "# All rights reserved.\n",
      "#\n",
      "# Redistribution and use in source and binary forms, with or without \n",
      "# modification, are permitted provided that the following conditions are met:\n",
      "#\n",
      "# * Redistributions of source code must retain the above copyright notice, this\n",
      "#   list of conditions and the following disclaimer.\n",
      "# * Redistributions in binary form must reproduce the above copyright notice,\n",
      "#   this list of conditions and the following disclaimer in the documentation\n",
      "#   and/or other materials provided with the distribution.\n",
      "# * Neither the name of the pyfirmata team nor the names of its contributors\n",
      "#   may be used to endorse or promote products derived from this software\n",
      "#   without specific prior written permission.\n",
      "#\n",
      "# THIS SOFTWARE IS PROVIDED BY THE REGENTS AND CONTRIBUTORS ''AS IS'' AND ANY\n",
      "# EXPRESS OR IMPLIED WARRANTIES, INCLUDING, BUT NOT LIMITED TO, THE IMPLIED\n",
      "# WARRANTIES OF MERCHANTABILITY AND FITNESS FOR A PARTICULAR PURPOSE ARE\n",
      "# DISCLAIMED. IN NO EVENT SHALL THE REGENTS OR CONTRIBUTORS BE LIABLE FOR ANY\n",
      "# DIRECT, INDIRECT, INCIDENTAL, SPECIAL, EXEMPLARY, OR CONSEQUENTIAL DAMAGES\n",
      "# (INCLUDING, BUT NOT LIMITED TO, PROCUREMENT OF SUBSTITUTE GOODS OR SERVICES;\n",
      "# LOSS OF USE, DATA, OR PROFITS; OR BUSINESS INTERRUPTION) HOWEVER CAUSED AND ON\n",
      "# ANY THEORY OF LIABILITY, WHETHER IN CONTRACT, STRICT LIABILITY, OR TORT\n",
      "# (INCLUDING NEGLIGENCE OR OTHERWISE) ARISING IN ANY WAY OUT OF THE USE OF THIS\n",
      "# SOFTWARE, EVEN IF ADVISED OF THE POSSIBILITY OF SUCH DAMAGE.\n",
      "\n",
      "import pyfirmata\n",
      "\n",
      "# Adjust that the port match your system, see samples below:\n",
      "# On Linux: /dev/tty.usbserial-A6008rIF, /dev/ttyACM0, \n",
      "# On Windows: \\\\.\\COM1, \\\\.\\COM2\n",
      "PORT = '/dev/tty.usbmodem000001'\n",
      "\n",
      "# Definition of the analog pin\n",
      "PINS = (0, 1, 2, 3)\n",
      "\n",
      "# Creates a new board \n",
      "board = pyfirmata.Arduino(PORT)\n",
      "print \"Setting up the connection to the board ...\"\n",
      "it = pyfirmata.util.Iterator(board)\n",
      "it.start()\n",
      "\n",
      "# Start reporting for defined pins\n",
      "for pin in PINS:\n",
      "    board.analog[pin].enable_reporting()\n",
      "\n",
      "# Loop for reading the input. Duration approx. 10 s\n",
      "for i in range(1, 11):\n",
      "    print \"\\nValues after %i second(s)\" % i\n",
      "    for pin in PINS:\n",
      "        print \"Pin %i : %s\" % (pin, board.analog[pin].read())\n",
      "    board.pass_time(1)\n",
      "\n",
      "board.exit()"
     ],
     "language": "python",
     "metadata": {},
     "outputs": [
      {
       "output_type": "stream",
       "stream": "stdout",
       "text": [
        "Setting up the connection to the board ...\n",
        "\n",
        "Values after 1 second(s)\n",
        "Pin 0 : None\n",
        "Pin 1 : None\n",
        "Pin 2 : None\n",
        "Pin 3 : None\n",
        "\n",
        "Values after 2 second(s)"
       ]
      },
      {
       "output_type": "stream",
       "stream": "stdout",
       "text": [
        "\n",
        "Pin 0 : None\n",
        "Pin 1 : None\n",
        "Pin 2 : None\n",
        "Pin 3 : None\n",
        "\n",
        "Values after 3 second(s)"
       ]
      },
      {
       "output_type": "stream",
       "stream": "stdout",
       "text": [
        "\n",
        "Pin 0 : None\n",
        "Pin 1 : None\n",
        "Pin 2 : None\n",
        "Pin 3 : None\n",
        "\n",
        "Values after 4 second(s)"
       ]
      },
      {
       "output_type": "stream",
       "stream": "stdout",
       "text": [
        "\n",
        "Pin 0 : None\n",
        "Pin 1 : None\n",
        "Pin 2 : None\n",
        "Pin 3 : None\n",
        "\n",
        "Values after 5 second(s)"
       ]
      },
      {
       "output_type": "stream",
       "stream": "stdout",
       "text": [
        "\n",
        "Pin 0 : None\n",
        "Pin 1 : None\n",
        "Pin 2 : None\n",
        "Pin 3 : None\n",
        "\n",
        "Values after 6 second(s)"
       ]
      },
      {
       "output_type": "stream",
       "stream": "stdout",
       "text": [
        "\n",
        "Pin 0 : None\n",
        "Pin 1 : None\n",
        "Pin 2 : None\n",
        "Pin 3 : None\n",
        "\n",
        "Values after 7 second(s)"
       ]
      },
      {
       "output_type": "stream",
       "stream": "stdout",
       "text": [
        "\n",
        "Pin 0 : None\n",
        "Pin 1 : None\n",
        "Pin 2 : None\n",
        "Pin 3 : None\n",
        "\n",
        "Values after 8 second(s)"
       ]
      },
      {
       "output_type": "stream",
       "stream": "stdout",
       "text": [
        "\n",
        "Pin 0 : None\n",
        "Pin 1 : None\n",
        "Pin 2 : None\n",
        "Pin 3 : None\n",
        "\n",
        "Values after 9 second(s)"
       ]
      },
      {
       "output_type": "stream",
       "stream": "stdout",
       "text": [
        "\n",
        "Pin 0 : None\n",
        "Pin 1 : None\n",
        "Pin 2 : None\n",
        "Pin 3 : None\n",
        "\n",
        "Values after 10 second(s)"
       ]
      },
      {
       "output_type": "stream",
       "stream": "stdout",
       "text": [
        "\n",
        "Pin 0 : None\n",
        "Pin 1 : None\n",
        "Pin 2 : None\n",
        "Pin 3 : None\n"
       ]
      },
      {
       "output_type": "stream",
       "stream": "stderr",
       "text": [
        "Exception in thread Thread-5:\n",
        "Traceback (most recent call last):\n",
        "  File \"/Users/Wintermute/anaconda/python.app/Contents/lib/python2.7/threading.py\", line 810, in __bootstrap_inner\n",
        "    self.run()\n",
        "  File \"/Users/Wintermute/anaconda/lib/python2.7/site-packages/pyfirmata/util.py\", line 40, in run\n",
        "    while self.board.bytes_available():\n",
        "  File \"/Users/Wintermute/anaconda/lib/python2.7/site-packages/pyfirmata/pyfirmata.py\", line 225, in bytes_available\n",
        "    return self.sp.inWaiting()\n",
        "  File \"/Users/Wintermute/anaconda/lib/python2.7/site-packages/serial/serialposix.py\", line 449, in inWaiting\n",
        "    s = fcntl.ioctl(self.fd, TIOCINQ, TIOCM_zero_str)\n",
        "TypeError: argument must be an int, or have a fileno() method.\n",
        "\n",
        "Exception in thread Thread-6:\n",
        "Traceback (most recent call last):\n",
        "  File \"/Users/Wintermute/anaconda/python.app/Contents/lib/python2.7/threading.py\", line 810, in __bootstrap_inner\n",
        "    self.run()\n",
        "  File \"/Users/Wintermute/anaconda/lib/python2.7/site-packages/pyfirmata/util.py\", line 40, in run\n",
        "    while self.board.bytes_available():\n",
        "  File \"/Users/Wintermute/anaconda/lib/python2.7/site-packages/pyfirmata/pyfirmata.py\", line 225, in bytes_available\n",
        "    return self.sp.inWaiting()\n",
        "  File \"/Users/Wintermute/anaconda/lib/python2.7/site-packages/serial/serialposix.py\", line 449, in inWaiting\n",
        "    s = fcntl.ioctl(self.fd, TIOCINQ, TIOCM_zero_str)\n",
        "TypeError: argument must be an int, or have a fileno() method.\n",
        "\n"
       ]
      }
     ],
     "prompt_number": 37
    },
    {
     "cell_type": "code",
     "collapsed": false,
     "input": [],
     "language": "python",
     "metadata": {},
     "outputs": []
    }
   ],
   "metadata": {}
  }
 ]
}